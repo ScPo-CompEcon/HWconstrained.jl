{
 "cells": [
  {
   "cell_type": "markdown",
   "metadata": {},
   "source": [
    "# A Portfolio Choice Problem\n",
    "\n",
    "We want to solve the portfolio allocation problem of an investor. \n",
    "\n",
    "* Assume we have $n$ assets, and asset number 1 is the safe asset. It will pay 1 for sure next period.\n",
    "* Assets $i=2,\\dots,n$ are risky and pay $z_i^s$ in state $s_i=1,\\dots,S_i$\n",
    "* Assets $i$ and $j$ can be in different states!\n",
    "* State $s_i$ occurs with probability $\\pi_i^s$, i.e. with prob $\\pi_i^s$ we observe asset $i$ in state $s$.\n",
    "* The same for the other asset: with $\\pi_j^s$ we observe asset $j$ in state $s$.\n",
    "* They are *independently distributed*, so the total number of possible states is $S = \\Pi_{i=2}^n S_i$, and each of those has equal probability $\\pi^s$\n",
    "* The investor is characterized by\n",
    "    * an initial endowment of each asset: $(e_1,e_2,\\dots,e_n)$\n",
    "    * a utility function $u(c) = -\\exp(-ac)$\n",
    "* The problem of the investor is to choose consumption $c$ and non-negative investment $\\omega_i$ in asset $i$ subject to a budget constraint, where $p_i$ is the unit price of asset $i$.\n",
    "    $$ \\begin{array}{c}\n",
    "    \\max_{c,\\omega_1,\\dots,\\omega_n} u(c) + \\sum_{s=1}^S \\pi^s u \\left( \\sum_{i=1}^n \\omega_i z_i^s \\right) \\\\\n",
    "    \\text{subject to   } c + \\sum_{i=1}^n p_i (\\omega_i - e_i) = 0 \\end{array} $$\n",
    "    \n",
    "\n"
   ]
  },
  {
   "cell_type": "markdown",
   "metadata": {},
   "source": [
    "### Questions\n",
    "\n",
    "* Assume $n=3,p=(1,1,1),e=(2,0,0), S_1 = S_2 = 4$ and suppose that asset payoffs in each state $s$ are $z_2 = (0.72,0.92,1.12,1.32),z_3=(0.86,0.96,1.06,1.16)$. Each of these realizations is equally likely to occur, and all assets are independent. This means that there are 16 possible pairs $(z_1^r,z_2^s)$ that one could form, and observing each of them is equally likely. In other words, $\\pi^s = \\frac{1}{S}$\n",
    "\n",
    "1. Solve this problem using `NLopt`. \n",
    "    * Define 2 functions `obj` and `constraint`, similar to the way we set this up in class.\n",
    "    * In particular, remember that both need to modify their gradient `in-place`. \n",
    "2. Solve the problem using `JuMP`.\n",
    "    * Stick to the example given in the slides.\n",
    "3. For both approaches, compute 3 different solutions for parameter $a\\in\\{0.5,1,1.5\\}$\n",
    "    \n",
    "### Solutions\n",
    "\n",
    "Your solution in both cases is correct if it produces the following table:\n",
    "\n",
    "| a   | c       | omega1    | omega2    | omega3   | fval      |\n",
    "|-----|---------|-----------|-----------|----------|-----------|\n",
    "| 0.5 | 1.00801 | -1.41237  | 0.801458  | 1.60291  | -1.20821  |\n",
    "| 1.0 | 1.00401 | -0.206197 | 0.400729  | 0.801462 | -0.732819 |\n",
    "| 5.0 | 1.0008  | 0.758762  | 0.0801456 | 0.160291 | -0.013422 |\n",
    "\n",
    "* Your tests should contain this table as a `DataFrame` called `truth`.\n",
    "* You should provide functions `table_JuMP()` and `table_NLopt()`, each of which produces this table.\n",
    "* The test is then to compare each column of your function output to `truth`\n",
    "\n"
   ]
  },
  {
   "cell_type": "code",
   "execution_count": null,
   "metadata": {
    "collapsed": true
   },
   "outputs": [],
   "source": []
  }
 ],
 "metadata": {
  "kernelspec": {
   "display_name": "Julia 1.1.0",
   "language": "julia",
   "name": "julia-1.1"
  },
  "language_info": {
   "file_extension": ".jl",
   "mimetype": "application/julia",
   "name": "julia",
   "version": "1.1.0"
  }
 },
 "nbformat": 4,
 "nbformat_minor": 1
}
