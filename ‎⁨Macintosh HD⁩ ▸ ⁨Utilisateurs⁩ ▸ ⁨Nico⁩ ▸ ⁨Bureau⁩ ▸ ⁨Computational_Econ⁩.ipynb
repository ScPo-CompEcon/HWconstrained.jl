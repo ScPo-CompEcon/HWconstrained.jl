{
 "cells": [
  {
   "cell_type": "code",
   "execution_count": null,
   "metadata": {},
   "outputs": [],
   "source": [
    "#module HWconstrained\n",
    "\n",
    "using JuMP, NLopt, DataFrames, Ipopt\n",
    "using LinearAlgebra\n",
    "export data, table_NLopt, table_JuMP\n",
    "\n",
    "\n",
    "### Question 1\n",
    "function data(a=0.5)\n",
    "n=3 \n",
    "p=[1, 1, 1]\n",
    "e=[2, 0, 0]\n",
    "s1=s2=4\n",
    "z1=[1, 1, 1, 1]\n",
    "z2=[0.72, 0.92, 1.12, 1.32]\n",
    "z3=[0.86, 0.96, 1.06, 1.16]\n",
    "z=[[1, i, j] for i in z2 for j in z3]\n",
    "z = vcat(z'...)\n",
    "pi = repeat([1/16], 16)\n",
    "a=0.5\n",
    "na=3\n",
    "nc=4\n",
    "ns=4\n",
    "nss=16\n",
    "\n",
    "return Dict(\"a\"=>a,\"na\"=>na,\"nc\"=>nc,\"ns\"=>ns,\"nss\"=>nss,\"e\"=>e,\"p\"=>p,\"z\"=>z,\"pi\"=>pi)\n",
    "end\n",
    "#end"
   ]
  },
  {
   "cell_type": "code",
   "execution_count": 71,
   "metadata": {},
   "outputs": [
    {
     "data": {
      "text/plain": [
       "Dict{String,Any} with 9 entries:\n",
       "  \"na\"  => 3\n",
       "  \"e\"   => [2, 0, 0]\n",
       "  \"ns\"  => 4\n",
       "  \"nc\"  => 4\n",
       "  \"nss\" => 16\n",
       "  \"z\"   => [1.0 0.72 0.86; 1.0 0.72 0.96; … ; 1.0 1.32 1.06; 1.0 1.32 1.16]\n",
       "  \"a\"   => 0.5\n",
       "  \"p\"   => [1, 1, 1]\n",
       "  \"pi\"  => [0.0625, 0.0625, 0.0625, 0.0625, 0.0625, 0.0625, 0.0625, 0.0625, 0.0…"
      ]
     },
     "execution_count": 71,
     "metadata": {},
     "output_type": "execute_result"
    }
   ],
   "source": [
    "d=data()\n"
   ]
  },
  {
   "cell_type": "code",
   "execution_count": null,
   "metadata": {},
   "outputs": [],
   "source": [
    "####  Question 2\n",
    "\n",
    "function obj(x::Vector,grad::Vector,data::Dict)\n",
    "    A = data[\"a\"]\n",
    "    Z = data[\"z\"]\n",
    "    if length(grad) > 0\n",
    "        grad[1] = A*exp.(-A*x[1])\n",
    "        for i in 1:3\n",
    "        grad[i+1] = A*sum(data[\"pi\"] .* Z[:,i] .*exp.(-A.*Z*x[i+1]))\n",
    "        end\n",
    "    end\n",
    "    return exp.(-A*x[1])+ sum(data[\"p\"]*exp.(-A*sum(Z*x[2:4])))\n",
    "end\n",
    "obj(ones(4), zeros(4), d)\n"
   ]
  },
  {
   "cell_type": "code",
   "execution_count": null,
   "metadata": {},
   "outputs": [],
   "source": [
    "function constr(x::Vector,grad::Vector,data::Dict)\n",
    "    if length(grad) > 0\n",
    "        grad[1] = d[\"a\"]*exp(-d[\"a\"]*x[1])\n",
    "        grad[2:end] = d[\"p\"]\n",
    "    end\n",
    "    return x[1] + sum(d[\"p\"].*(x[2:end].-d[\"e\"]))\n",
    "end    \n",
    "    \n",
    "constr(ones(4), zeros(4), d) # keep track of # function evaluations\n",
    "\n",
    "\n"
   ]
  },
  {
   "cell_type": "code",
   "execution_count": 17,
   "metadata": {},
   "outputs": [
    {
     "data": {
      "text/plain": [
       "table_NLopt (generic function with 1 method)"
      ]
     },
     "execution_count": 17,
     "metadata": {},
     "output_type": "execute_result"
    }
   ],
   "source": [
    "function max_NLopt(a=0.5)                                                     \n",
    "                                                                                                \n",
    "end\n",
    "\n",
    "\n",
    "function table_NLopt()\n",
    "d = DataFrame(a=[0.5;1.0;5.0],c = zeros(3),omega1=zeros(3),omega2=zeros(3),omega3=zeros(3),fval=zeros(3))\n",
    "for i in 1:nrow(d)\n",
    "xx = max_NLopt(d[i,:a])\n",
    "for j in 2:ncol(d)-1\n",
    "d[i,j] = xx[2][j-1]\n",
    "end\n",
    "d[i,end] = xx[1]\n",
    "end\n",
    "return d\n",
    "end"
   ]
  },
  {
   "cell_type": "code",
   "execution_count": null,
   "metadata": {},
   "outputs": [],
   "source": [
    "opt = Opt(:LD_MMA, 2)\n",
    "lower_bounds!(opt, [-Inf, 0.])\n",
    "xtol_rel!(opt,1e-4)\n",
    "\n",
    "min_objective!(opt, myfunc)\n",
    "inequality_constraint!(opt, (x,g) -> myconstraint(x,g,2,0), 1e-8)\n",
    "inequality_constraint!(opt, (x,g) -> myconstraint(x,g,-1,1), 1e-8)\n",
    "\n",
    "(minfunc,minx,ret) = NLopt.optimize(opt, [1.234, 5.678])\n",
    "println(\"got $minfunc at $minx after $count iterations (returned $ret)\")"
   ]
  }
 ],
 "metadata": {
  "kernelspec": {
   "display_name": "Julia 1.1.0",
   "language": "julia",
   "name": "julia-1.1"
  },
  "language_info": {
   "file_extension": ".jl",
   "mimetype": "application/julia",
   "name": "julia",
   "version": "1.1.0"
  }
 },
 "nbformat": 4,
 "nbformat_minor": 2
}
